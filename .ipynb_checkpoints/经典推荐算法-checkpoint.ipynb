{
 "cells": [
  {
   "cell_type": "code",
   "execution_count": 1,
   "metadata": {},
   "outputs": [],
   "source": [
    "import pandas as pd\n",
    "import numpy as np"
   ]
  },
  {
   "cell_type": "code",
   "execution_count": 2,
   "metadata": {},
   "outputs": [],
   "source": [
    "click_columns = ['user_id','item_id','time']\n",
    "train_click_T = pd.DataFrame()\n",
    "test_click_T = pd.DataFrame()\n",
    "test_qtime_T = pd.DataFrame()\n",
    "# 第t个阶段，读取所有文件并合并\n",
    "t = 4\n",
    "for i in range(t):\n",
    "    temp_train_click = pd.read_csv('underexpose_train/underexpose_train_click-%s.csv'%(str(i)),sep=',',names = click_columns )\n",
    "    temp_test_click = pd.read_csv('underexpose_test/underexpose_test_click-%s.csv'%(str(i)),sep=',',names = click_columns)\n",
    "    temp_test_qtime = pd.read_csv('underexpose_test/underexpose_test_qtime-%s.csv'%(str(i)),sep=',',names = ['user_id','time'])\n",
    "    train_click_T = train_click_T.append(temp_train_click)\n",
    "    test_click_T = test_click_T.append(temp_test_click)\n",
    "    test_qtime_T = test_qtime_T.append(temp_test_qtime)\n",
    "\n",
    "# 拼接所有历史点击数据\n",
    "data_click_T = pd.concat([train_click_T,test_click_T],axis = 0).reset_index(drop = True)"
   ]
  },
  {
   "cell_type": "code",
   "execution_count": 11,
   "metadata": {},
   "outputs": [
    {
     "data": {
      "text/plain": [
       "(6754,)"
      ]
     },
     "execution_count": 11,
     "metadata": {},
     "output_type": "execute_result"
    }
   ],
   "source": [
    "test_qtime_T['user_id'].shape"
   ]
  },
  {
   "cell_type": "code",
   "execution_count": 3,
   "metadata": {},
   "outputs": [],
   "source": [
    "# 计算所有商品的流行度-历史点击次数排序\n",
    "data_click_T_item = data_click_T.groupby('item_id',as_index= False)['user_id'].agg({'user_dis':'unique','click_cnt':'count'})\n",
    "data_click_T_item_rank = data_click_T_item.sort_values(by = 'click_cnt',axis = 0,ascending = False)['item_id'].tolist()"
   ]
  },
  {
   "cell_type": "code",
   "execution_count": 4,
   "metadata": {},
   "outputs": [],
   "source": [
    "def next_item_by(user_list):\n",
    "    '''\n",
    "    针对所有用户，计算历史上某个商品点击之后下一个被点击商品的list\n",
    "    返回数据格式：{'item_id':{'next_item_1':'click_count1','next_item2':'click_count2'}}\n",
    "    '''\n",
    "    item_seq={}\n",
    "    for user_id in user_list:\n",
    "        temp = data_click_T[data_click_T.user_id == user_id]\n",
    "        temp_1 = temp.sort_values(by = 'time',axis = 0,ascending = True)\n",
    "        c = temp_1['item_id'].tolist()\n",
    "        for index,item in enumerate(c):\n",
    "            if index ==len(c)-1:break\n",
    "            if item not in item_seq:\n",
    "                item_seq[item] = {}\n",
    "                if c[index+1] not in item_seq[item]:\n",
    "                    item_seq[item][c[index+1]] = 1\n",
    "                else:\n",
    "                    item_seq[item][c[index+1]] += 1\n",
    "            else:    \n",
    "                if c[index+1] not in item_seq[item]:\n",
    "                    item_seq[item][c[index+1]] = 1\n",
    "                else:\n",
    "                    item_seq[item][c[index+1]] += 1\n",
    "    return item_seq\n",
    "\n",
    "item_seq = next_item_by(data_click_T['user_id'].unique())"
   ]
  },
  {
   "cell_type": "code",
   "execution_count": 5,
   "metadata": {},
   "outputs": [],
   "source": [
    "def last_item(user_list):\n",
    "    \"\"\"\n",
    "    获取测试集用户上一次点击的商品id\n",
    "    返回数据格式：{'user_id':'last_click_item_id'}}\n",
    "    \"\"\"\n",
    "    user_lastitem={}\n",
    "    for user_id in user_list:\n",
    "        temp =test_click_T[test_click_T.user_id == user_id]\n",
    "        temp_1 = temp.sort_values(by = 'time',axis = 0,ascending = False).iloc[0:1,1:2].values[0][0]\n",
    "        user_lastitem[user_id]= temp_1\n",
    "    return user_lastitem\n",
    "\n",
    "user_lastitem = last_item(test_click_T.user_id.tolist())"
   ]
  },
  {
   "cell_type": "code",
   "execution_count": 52,
   "metadata": {},
   "outputs": [],
   "source": [
    "# 根据用户上一次点击的商品，把历史统计出来的点完这个商品还会点哪些的统计结果保存到对应user_id,并且把这个作为结果提交\n",
    "user_nextitem_dict= {}\n",
    "for user_id in user_lastitem.keys():\n",
    "    item_id = user_lastitem[user_id]\n",
    "    if item_id not in item_seq:\n",
    "        user_nextitem_dict[user_id]= []\n",
    "    else:\n",
    "        next_item_dict = item_seq[item_id]\n",
    "        temp =sorted(next_item_dict.items(),key = lambda x:x[1],reverse = True)\n",
    "        next_item_list =[]\n",
    "        for i in range(len(temp)):\n",
    "            next_item_list.append(temp[i][0])\n",
    "        user_nextitem_dict[user_id]= next_item_list"
   ]
  },
  {
   "cell_type": "code",
   "execution_count": 53,
   "metadata": {},
   "outputs": [],
   "source": [
    "def deal(x):\n",
    "    \"\"\"对测试集的所有用户，用当前商品历史上下一次点击商品作为预测目标。如果长度不足50,则用所有商品流行度补全\"\"\"\n",
    "    y=[]\n",
    "    if len(user_nextitem_dict[x]) >=50:\n",
    "        y = user_nextitem_dict[x][0:50]\n",
    "    else:\n",
    "        y=user_nextitem_dict[x]\n",
    "        for i in data_click_T_item_rank:\n",
    "            if i in y:continue\n",
    "            y.append(i)\n",
    "            if len(y)>=50:\n",
    "                break\n",
    "    return y\n",
    "    \n",
    "test_qtime_T['candidate'] = test_qtime_T['user_id'].apply(lambda x :deal(x))"
   ]
  },
  {
   "cell_type": "code",
   "execution_count": 54,
   "metadata": {},
   "outputs": [],
   "source": [
    "\"\"\"生成对应的列\"\"\"\n",
    "for i in range(50):\n",
    "    if i < 9:\n",
    "        col = 'item_id_0'+str(i+1)\n",
    "    else:\n",
    "        col = 'item_id_'+str(i+1)\n",
    "    test_qtime_T[col] = test_qtime_T['candidate'].apply(lambda x: x[i])    "
   ]
  },
  {
   "cell_type": "code",
   "execution_count": 55,
   "metadata": {},
   "outputs": [],
   "source": [
    "test_qtime_T = test_qtime_T.drop(columns=['time','candidate'])"
   ]
  },
  {
   "cell_type": "code",
   "execution_count": 56,
   "metadata": {},
   "outputs": [],
   "source": [
    "test_qtime_T.to_csv('Result/underexpose_submit_T.csv',sep=',',index = False,header = False)"
   ]
  },
  {
   "cell_type": "code",
   "execution_count": null,
   "metadata": {},
   "outputs": [],
   "source": [
    "\"\"\"hitrate_50_full:0.1871\"\"\""
   ]
  }
 ],
 "metadata": {
  "kernelspec": {
   "display_name": "Python 3",
   "language": "python",
   "name": "python3"
  },
  "language_info": {
   "codemirror_mode": {
    "name": "ipython",
    "version": 3
   },
   "file_extension": ".py",
   "mimetype": "text/x-python",
   "name": "python",
   "nbconvert_exporter": "python",
   "pygments_lexer": "ipython3",
   "version": "3.6.8"
  }
 },
 "nbformat": 4,
 "nbformat_minor": 2
}
