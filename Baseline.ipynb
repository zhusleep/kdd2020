{
 "cells": [
  {
   "cell_type": "code",
   "execution_count": 1,
   "metadata": {},
   "outputs": [],
   "source": [
    "import pandas as pd\n",
    "import numpy as np"
   ]
  },
  {
   "cell_type": "code",
   "execution_count": 2,
   "metadata": {},
   "outputs": [
    {
     "name": "stdout",
     "output_type": "stream",
     "text": [
      "underexpose_item_feat.csv      underexpose_train_click-4.zip\n",
      "underexpose_train_click-0.csv  underexpose_train_click-5.zip\n",
      "underexpose_train_click-1.csv  underexpose_train_click-6.zip\n",
      "underexpose_train_click-1.zip  underexpose_train_click-7.zip\n",
      "underexpose_train_click-2.csv  underexpose_train_click-8.zip\n",
      "underexpose_train_click-2.zip  underexpose_train_click-9.zip\n",
      "underexpose_train_click-3.zip  underexpose_user_feat.csv\n",
      "underexpose_test_click-0.csv  underexpose_test_click-5.zip\n",
      "underexpose_test_click-0.zip  underexpose_test_click-6.zip\n",
      "underexpose_test_click-1.csv  underexpose_test_click-7.zip\n",
      "underexpose_test_click-1.zip  underexpose_test_click-8.zip\n",
      "underexpose_test_click-2.csv  underexpose_test_click-9.zip\n",
      "underexpose_test_click-2.zip  underexpose_test_qtime-0.csv\n",
      "underexpose_test_click-3.zip  underexpose_test_qtime-1.csv\n",
      "underexpose_test_click-4.zip  underexpose_test_qtime-2.csv\n"
     ]
    }
   ],
   "source": [
    "# dataload \n",
    "!ls underexpose_train\n",
    "!ls underexpose_test"
   ]
  },
  {
   "cell_type": "code",
   "execution_count": 3,
   "metadata": {},
   "outputs": [],
   "source": [
    "########  item data \n",
    "data_item = pd.read_pickle('Feature/underexpose_item_feat.pkl')\n",
    "#######  user data \n",
    "data_user = pd.read_csv('underexpose_train/underexpose_user_feat.csv',sep=',',names = ['user_id','user_age_level','user_gender','user_city_level'])\n",
    "# user_id, user_age_level, user_gender, user_city_level\n",
    "########  train data \n",
    "train_click0 = pd.read_csv('underexpose_train/underexpose_train_click-0.csv',sep=',',names = ['user_id','item_id','time'])\n",
    "train_click1 = pd.read_csv('underexpose_train/underexpose_train_click-1.csv',sep=',',names = ['user_id','item_id','time'])\n",
    "train_click2 = pd.read_csv('underexpose_train/underexpose_train_click-2.csv',sep=',',names = ['user_id','item_id','time'])\n",
    "# user_id,item_id,time\n",
    "########  test data \n",
    "test_click0 = pd.read_csv('underexpose_test/underexpose_test_click-0.csv',sep=',',names = ['user_id','item_id','time'])\n",
    "test_click1 = pd.read_csv('underexpose_test/underexpose_test_click-1.csv',sep=',',names = ['user_id','item_id','time'])\n",
    "test_click2 = pd.read_csv('underexpose_test/underexpose_test_click-2.csv',sep=',',names = ['user_id','item_id','time'])\n",
    "# user_id,item_id,time\n",
    "test_qtime0 = pd.read_csv('underexpose_test/underexpose_test_qtime-0.csv',sep=',',names = ['user_id','time'])\n",
    "test_qtime1 = pd.read_csv('underexpose_test/underexpose_test_qtime-1.csv',sep=',',names = ['user_id','time'])\n",
    "test_qtime2 = pd.read_csv('underexpose_test/underexpose_test_qtime-2.csv',sep=',',names = ['user_id','time'])\n",
    "# user_id,time\n",
    "########  merge all the clicked records \n",
    "data_click_T = pd.concat([train_click0,train_click1,train_click2,test_click0,test_click1,test_click2],axis = 0).reset_index(drop = True)"
   ]
  },
  {
   "cell_type": "code",
   "execution_count": 8,
   "metadata": {},
   "outputs": [
    {
     "name": "stdout",
     "output_type": "stream",
     "text": [
      "(108916, 3)\n",
      "(6789, 4)\n",
      "(795911, 3)\n"
     ]
    }
   ],
   "source": [
    "print(data_item.shape)\n",
    "print(data_user.shape)\n",
    "print(data_click_T.shape)\n"
   ]
  },
  {
   "cell_type": "code",
   "execution_count": 9,
   "metadata": {},
   "outputs": [
    {
     "data": {
      "text/html": [
       "<div>\n",
       "<style scoped>\n",
       "    .dataframe tbody tr th:only-of-type {\n",
       "        vertical-align: middle;\n",
       "    }\n",
       "\n",
       "    .dataframe tbody tr th {\n",
       "        vertical-align: top;\n",
       "    }\n",
       "\n",
       "    .dataframe thead th {\n",
       "        text-align: right;\n",
       "    }\n",
       "</style>\n",
       "<table border=\"1\" class=\"dataframe\">\n",
       "  <thead>\n",
       "    <tr style=\"text-align: right;\">\n",
       "      <th></th>\n",
       "      <th>item_id</th>\n",
       "      <th>text_vec</th>\n",
       "      <th>img_vec</th>\n",
       "    </tr>\n",
       "  </thead>\n",
       "  <tbody>\n",
       "    <tr>\n",
       "      <th>0</th>\n",
       "      <td>42844</td>\n",
       "      <td>[4.514945030212402, -2.383719682693481, 0.5004...</td>\n",
       "      <td>[-2.8722801208496094, 1.4587551355361938, 2.57...</td>\n",
       "    </tr>\n",
       "    <tr>\n",
       "      <th>1</th>\n",
       "      <td>67898</td>\n",
       "      <td>[-2.0029051303863525, -0.9298805594444276, 0.7...</td>\n",
       "      <td>[-0.07052088528871536, -1.4393335580825806, 0....</td>\n",
       "    </tr>\n",
       "    <tr>\n",
       "      <th>2</th>\n",
       "      <td>66446</td>\n",
       "      <td>[4.221673011779785, -1.4971394538879397, 1.133...</td>\n",
       "      <td>[-5.18036413192749, -0.38824713230133057, -0.0...</td>\n",
       "    </tr>\n",
       "    <tr>\n",
       "      <th>3</th>\n",
       "      <td>63651</td>\n",
       "      <td>[2.6579699516296387, -0.941863477230072, 1.121...</td>\n",
       "      <td>[-1.077273964881897, 2.8394529819488525, 1.183...</td>\n",
       "    </tr>\n",
       "    <tr>\n",
       "      <th>4</th>\n",
       "      <td>46824</td>\n",
       "      <td>[3.192194938659668, -1.9366759061813357, 1.199...</td>\n",
       "      <td>[-3.2601945400238037, 0.4988903403282166, 2.58...</td>\n",
       "    </tr>\n",
       "  </tbody>\n",
       "</table>\n",
       "</div>"
      ],
      "text/plain": [
       "   item_id                                           text_vec  \\\n",
       "0    42844  [4.514945030212402, -2.383719682693481, 0.5004...   \n",
       "1    67898  [-2.0029051303863525, -0.9298805594444276, 0.7...   \n",
       "2    66446  [4.221673011779785, -1.4971394538879397, 1.133...   \n",
       "3    63651  [2.6579699516296387, -0.941863477230072, 1.121...   \n",
       "4    46824  [3.192194938659668, -1.9366759061813357, 1.199...   \n",
       "\n",
       "                                             img_vec  \n",
       "0  [-2.8722801208496094, 1.4587551355361938, 2.57...  \n",
       "1  [-0.07052088528871536, -1.4393335580825806, 0....  \n",
       "2  [-5.18036413192749, -0.38824713230133057, -0.0...  \n",
       "3  [-1.077273964881897, 2.8394529819488525, 1.183...  \n",
       "4  [-3.2601945400238037, 0.4988903403282166, 2.58...  "
      ]
     },
     "execution_count": 9,
     "metadata": {},
     "output_type": "execute_result"
    }
   ],
   "source": [
    "data_item.head()"
   ]
  },
  {
   "cell_type": "code",
   "execution_count": 10,
   "metadata": {},
   "outputs": [
    {
     "name": "stdout",
     "output_type": "stream",
     "text": [
      "(5079, 2)\n",
      "(68426, 3)\n",
      "6786\n",
      "23307\n",
      "5079\n",
      "5079\n"
     ]
    }
   ],
   "source": [
    "# find all clicked items of submit user_id (in test_qtime_T)\n",
    "test_qtime_T = pd.concat([test_qtime0, test_qtime1,test_qtime2], axis=0).reset_index(drop = True)\n",
    "test_click_T = pd.concat([test_click0, test_click1,test_click2], axis=0).reset_index(drop = True)\n",
    "train_click_T = pd.concat([train_click0, train_click1,train_click2], axis=0).reset_index(drop = True)\n",
    "print(test_qtime_T.shape)\n",
    "print(test_click_T.shape)\n",
    "\n",
    "print(data_user['user_id'].nunique())\n",
    "print(train_click_T['user_id'].nunique())\n",
    "print(test_qtime_T['user_id'].nunique())\n",
    "print(test_click_T['user_id'].nunique())"
   ]
  },
  {
   "cell_type": "code",
   "execution_count": 11,
   "metadata": {},
   "outputs": [],
   "source": [
    "# # check1: if user_id in q_time are in train file? 0. in test file?:all 1663/1663\n",
    "# user_ii=[]\n",
    "# for i in test_qtime0['user_id'].unique():\n",
    "#     if i in train_click0['user_id'].unique(): \n",
    "#         user_ii.append(i) \n",
    "# len(set(user_ii)) \n",
    "# # print(set(user_ii))"
   ]
  },
  {
   "cell_type": "code",
   "execution_count": 12,
   "metadata": {},
   "outputs": [],
   "source": [
    "# # check2: if user_id in q_time are in data_user file? partly: 386/1663\n",
    "# user_ii=[]\n",
    "# for i in test_qtime0['user_id'].unique():\n",
    "#     if i in data_user['user_id'].unique():\n",
    "#         user_ii.append(i) \n",
    "# len(set(user_ii)) # 4016 not in data_user,it means no age gender and city,only has clicked data in test file\n",
    "# # print(set(user_ii))"
   ]
  },
  {
   "cell_type": "code",
   "execution_count": 13,
   "metadata": {},
   "outputs": [],
   "source": [
    "# # check3: if user&item in test0 file are in train1 file? \n",
    "# test_click1['user_item_id']=test_click1['user_id'].map(str)+'&'+test_click1['item_id'].map(str)\n",
    "# train_click2['user_item_id']=train_click2['user_id'].map(str)+'&'+train_click2['item_id'].map(str)\n",
    "# # print(test_click1['user_item_id'].nunique()) #24465\n",
    "# # print(train_click2['user_item_id'].nunique()) #243569\n",
    "# user_item_ii=[]\n",
    "# for i in test_click1['user_item_id'].unique():\n",
    "#     if i in train_click2['user_item_id'].unique():\n",
    "#         user_item_ii.append(i) \n",
    "# len(set(user_item_ii)) # 4016 not in data_user,it means no age gender and city,only has clicked data in test file\n",
    "# # print(set(user_ii))"
   ]
  },
  {
   "cell_type": "code",
   "execution_count": 14,
   "metadata": {},
   "outputs": [],
   "source": [
    "# # check4: if user in test0 file are in train1 file? partly \n",
    "# user_ii=[]\n",
    "# for i in test_click0['user_id'].unique():\n",
    "#     if i in train_click1['user_id'].unique():\n",
    "#         user_ii.append(i) \n",
    "# len(set(user_ii)) "
   ]
  },
  {
   "cell_type": "code",
   "execution_count": 15,
   "metadata": {},
   "outputs": [],
   "source": [
    "# summary : qtime0 user_id all in test0 file,not in train0 file,but in train1 file."
   ]
  },
  {
   "cell_type": "code",
   "execution_count": 16,
   "metadata": {},
   "outputs": [
    {
     "name": "stdout",
     "output_type": "stream",
     "text": [
      "(23816, 3)\n",
      "   user_id                                           item_dis  item_cnt\n",
      "0        1  [47611, 76240, 78142, 89568, 97795, 78380, 178...        25\n",
      "1        2  [7053, 7745, 4983, 23824, 104635, 4168, 8481, ...        33\n",
      "2        3  [41811, 68822, 114094, 64509, 96045, 2396, 526...        14\n",
      "3        4  [13283, 90818, 35419, 6609, 8291, 64404, 18883...         8\n",
      "4        6  [92160, 60291, 77900, 20582, 44128, 40062, 409...        11\n"
     ]
    }
   ],
   "source": [
    "# 1. for each user, clicked item list, item_cnt\n",
    "data_click_T_user = data_click_T[['user_id','item_id']].groupby('user_id',as_index= False)['item_id'].agg({'item_dis':'unique','item_cnt':'nunique'})\n",
    "print(data_click_T_user.shape)\n",
    "print(data_click_T_user.head())"
   ]
  },
  {
   "cell_type": "code",
   "execution_count": 17,
   "metadata": {},
   "outputs": [
    {
     "name": "stdout",
     "output_type": "stream",
     "text": [
      "   item_id                                           user_dis  click_cnt\n",
      "0        1                        [10088, 1489, 19312, 13420]          4\n",
      "1        2                       [31391, 19402, 10765, 18252]          4\n",
      "2        3  [5206, 24081, 18247, 8022, 2329, 5788, 10370, ...         22\n",
      "3        4                         [29720, 34045, 8248, 6181]          4\n",
      "4        9  [16439, 25683, 31880, 30103, 30007, 32015, 347...         30\n"
     ]
    },
    {
     "data": {
      "text/plain": [
       "[52766, 111225, 2420, 114125]"
      ]
     },
     "execution_count": 17,
     "metadata": {},
     "output_type": "execute_result"
    }
   ],
   "source": [
    "# 2. for each item, click_cnt rank\n",
    "data_click_T_item = data_click_T.groupby('item_id',as_index= False)['user_id'].agg({'user_dis':'unique','click_cnt':'count'})\n",
    "print(data_click_T_item.head())\n",
    "data_click_T_item_rank = data_click_T_item.sort_values(by = 'click_cnt',axis = 0,ascending = False)['item_id'].tolist()\n",
    "data_click_T_item_rank[0:4]"
   ]
  },
  {
   "cell_type": "code",
   "execution_count": 19,
   "metadata": {},
   "outputs": [],
   "source": [
    "# 3.Phrase T=2 :for submit user,find last click item,and then find users clicked the item next item to click \n",
    "    # submit user                        in Phrase T=2 \n",
    "    # last click item                    in Phrase T=2  in text file\n",
    "    # other users clicked the item       in Phrase T=2  in train/text file\n",
    "    # next item by those users by time       in Phrase T=2  in train/text file    \n",
    "def next_item_by(user_list):\n",
    "    item_seq={}\n",
    "    for user_id in user_list:\n",
    "        temp = data_click_T[data_click_T.user_id == user_id]\n",
    "        temp_1 = temp.sort_values(by = 'time',axis = 0,ascending = False)\n",
    "        c = temp_1['item_id'].tolist()\n",
    "        for index,item in enumerate(c):\n",
    "            if index ==len(c)-1:break\n",
    "            if item not in item_seq:\n",
    "                item_seq[item] = {}\n",
    "                if c[index+1] not in item_seq[item]:\n",
    "                    item_seq[item][c[index+1]] = 1\n",
    "                else:\n",
    "                    item_seq[item][c[index+1]] += 1\n",
    "            else:    \n",
    "                if c[index+1] not in item_seq[item]:\n",
    "                    item_seq[item][c[index+1]] = 1\n",
    "                else:\n",
    "                    item_seq[item][c[index+1]] += 1\n",
    "    return item_seq\n",
    "\n",
    "# all the item in data with the next item and item_seq\n",
    "item_seq = next_item_by(data_click_T['user_id'].unique())\n",
    "#"
   ]
  },
  {
   "cell_type": "code",
   "execution_count": 20,
   "metadata": {},
   "outputs": [],
   "source": [
    "# for submit user,find last click item\n",
    "def last_item(user_list):\n",
    "    user_lastitem={}\n",
    "    for user_id in user_list:\n",
    "        temp =test_click_T[test_click_T.user_id == user_id]\n",
    "        temp_1 = temp.sort_values(by = 'time',axis = 0,ascending = False).iloc[0:1,1:2].values[0][0]\n",
    "        user_lastitem[user_id]= temp_1\n",
    "    return user_lastitem\n",
    "\n",
    "user_lastitem = last_item(test_click_T.user_id.tolist())"
   ]
  },
  {
   "cell_type": "code",
   "execution_count": 21,
   "metadata": {},
   "outputs": [],
   "source": [
    "user_nextitem_dict= {}\n",
    "for user_id in user_lastitem.keys():\n",
    "    item_id = user_lastitem[user_id]\n",
    "    next_item_dict = item_seq[item_id]\n",
    "    temp =sorted(next_item_dict.items(),key = lambda x:x[1],reverse = True)\n",
    "    next_item_list =[]\n",
    "    for i in range(len(temp)):\n",
    "        next_item_list.append(temp[i][0])\n",
    "    user_nextitem_dict[user_id]= next_item_list"
   ]
  },
  {
   "cell_type": "code",
   "execution_count": 22,
   "metadata": {},
   "outputs": [],
   "source": [
    "def deal(x):\n",
    "    y=[]\n",
    "    if len(user_nextitem_dict[x]) >=50:\n",
    "        y = user_nextitem_dict[x][0:50]\n",
    "    else:\n",
    "        y=user_nextitem_dict[x]\n",
    "        for i in data_click_T_item_rank:\n",
    "            if i in y:continue\n",
    "            y.append(i)\n",
    "            if len(y)>=50:\n",
    "                break\n",
    "    return y\n",
    "    \n",
    "test_qtime_T['candidate'] = test_qtime_T['user_id'].apply(lambda x :deal(x))"
   ]
  },
  {
   "cell_type": "code",
   "execution_count": 23,
   "metadata": {},
   "outputs": [
    {
     "data": {
      "text/html": [
       "<div>\n",
       "<style scoped>\n",
       "    .dataframe tbody tr th:only-of-type {\n",
       "        vertical-align: middle;\n",
       "    }\n",
       "\n",
       "    .dataframe tbody tr th {\n",
       "        vertical-align: top;\n",
       "    }\n",
       "\n",
       "    .dataframe thead th {\n",
       "        text-align: right;\n",
       "    }\n",
       "</style>\n",
       "<table border=\"1\" class=\"dataframe\">\n",
       "  <thead>\n",
       "    <tr style=\"text-align: right;\">\n",
       "      <th></th>\n",
       "      <th>user_id</th>\n",
       "      <th>item_id</th>\n",
       "      <th>time</th>\n",
       "    </tr>\n",
       "  </thead>\n",
       "  <tbody>\n",
       "    <tr>\n",
       "      <th>0</th>\n",
       "      <td>1133</td>\n",
       "      <td>221</td>\n",
       "      <td>0.983812</td>\n",
       "    </tr>\n",
       "    <tr>\n",
       "      <th>1</th>\n",
       "      <td>17864</td>\n",
       "      <td>253</td>\n",
       "      <td>0.983783</td>\n",
       "    </tr>\n",
       "    <tr>\n",
       "      <th>2</th>\n",
       "      <td>6941</td>\n",
       "      <td>309</td>\n",
       "      <td>0.983785</td>\n",
       "    </tr>\n",
       "    <tr>\n",
       "      <th>3</th>\n",
       "      <td>34089</td>\n",
       "      <td>358</td>\n",
       "      <td>0.983781</td>\n",
       "    </tr>\n",
       "    <tr>\n",
       "      <th>4</th>\n",
       "      <td>21659</td>\n",
       "      <td>536</td>\n",
       "      <td>0.983793</td>\n",
       "    </tr>\n",
       "  </tbody>\n",
       "</table>\n",
       "</div>"
      ],
      "text/plain": [
       "   user_id  item_id      time\n",
       "0     1133      221  0.983812\n",
       "1    17864      253  0.983783\n",
       "2     6941      309  0.983785\n",
       "3    34089      358  0.983781\n",
       "4    21659      536  0.983793"
      ]
     },
     "execution_count": 23,
     "metadata": {},
     "output_type": "execute_result"
    }
   ],
   "source": [
    "test_click_T.head()"
   ]
  },
  {
   "cell_type": "code",
   "execution_count": 24,
   "metadata": {},
   "outputs": [],
   "source": [
    "for i in range(50):\n",
    "    if i < 9:\n",
    "        col = 'item_id_0'+str(i+1)\n",
    "    else:\n",
    "        col = 'item_id_'+str(i+1)\n",
    "    test_qtime_T[col] = test_qtime_T['candidate'].apply(lambda x: x[i])    "
   ]
  },
  {
   "cell_type": "code",
   "execution_count": 25,
   "metadata": {},
   "outputs": [],
   "source": [
    "test_qtime_T.head()\n",
    "test_qtime_T = test_qtime_T.drop(columns=['time','candidate'])"
   ]
  },
  {
   "cell_type": "code",
   "execution_count": 26,
   "metadata": {},
   "outputs": [
    {
     "data": {
      "text/plain": [
       "(5079, 51)"
      ]
     },
     "execution_count": 26,
     "metadata": {},
     "output_type": "execute_result"
    }
   ],
   "source": [
    "test_qtime_T.shape"
   ]
  },
  {
   "cell_type": "code",
   "execution_count": 27,
   "metadata": {},
   "outputs": [],
   "source": [
    "#test_qtime2.drop_duplicates(subset = 'user_id',inplace = True)\n",
    "test_qtime_T.to_csv('Result/underexpose_submit_T.csv',sep=',',index = False,header = False)"
   ]
  }
 ],
 "metadata": {
  "kernelspec": {
   "display_name": "Python 3",
   "language": "python",
   "name": "python3"
  },
  "language_info": {
   "codemirror_mode": {
    "name": "ipython",
    "version": 3
   },
   "file_extension": ".py",
   "mimetype": "text/x-python",
   "name": "python",
   "nbconvert_exporter": "python",
   "pygments_lexer": "ipython3",
   "version": "3.6.8"
  }
 },
 "nbformat": 4,
 "nbformat_minor": 2
}
