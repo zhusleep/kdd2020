{
 "cells": [
  {
   "cell_type": "code",
   "execution_count": null,
   "metadata": {},
   "outputs": [],
   "source": [
    "import pandas as pd\n",
    "import numpy as np"
   ]
  },
  {
   "cell_type": "code",
   "execution_count": 1,
   "metadata": {},
   "outputs": [
    {
     "name": "stdout",
     "output_type": "stream",
     "text": [
      "Baseline.ipynb               EDA_item_user.ipynb   经典推荐算法.ipynb\r\n",
      "debiasing_data_20200401.csv  Pre_processing.ipynb\r\n",
      "EDA_click.ipynb              Top100_gogogo.ipynb\r\n"
     ]
    }
   ],
   "source": [
    "ls /home/zhu/Desktop/CODE"
   ]
  },
  {
   "cell_type": "code",
   "execution_count": null,
   "metadata": {},
   "outputs": [],
   "source": [
    "data_item_user = pd.read_csv('/home/zhu/Desktop/CODE/underexpose_item_feat.csv',sep=',',header = None)\n",
    "# item_id, txt_vec, img_vec"
   ]
  }
 ],
 "metadata": {
  "kernelspec": {
   "display_name": "Python 3",
   "language": "python",
   "name": "python3"
  },
  "language_info": {
   "codemirror_mode": {
    "name": "ipython",
    "version": 3
   },
   "file_extension": ".py",
   "mimetype": "text/x-python",
   "name": "python",
   "nbconvert_exporter": "python",
   "pygments_lexer": "ipython3",
   "version": "3.6.8"
  }
 },
 "nbformat": 4,
 "nbformat_minor": 2
}
